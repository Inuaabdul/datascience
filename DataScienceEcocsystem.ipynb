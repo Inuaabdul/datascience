{
 "cells": [
  {
   "cell_type": "code",
   "execution_count": 2,
   "id": "58ff9d00-6eb1-4885-a924-12eb708dc3f1",
   "metadata": {},
   "outputs": [
    {
     "data": {
      "text/plain": [
       "1"
      ]
     },
     "execution_count": 2,
     "metadata": {},
     "output_type": "execute_result"
    }
   ],
   "source": [
    "1 "
   ]
  },
  {
   "cell_type": "markdown",
   "id": "819e900b-bf57-4207-9e41-a5ef8fce458d",
   "metadata": {},
   "source": [
    "# Data Science tools and Ecosystem"
   ]
  },
  {
   "cell_type": "markdown",
   "id": "7ef26f8c-ac35-435a-bdca-49eff659370a",
   "metadata": {},
   "source": [
    "In this notebook, Data Science Tools and Ecosystem are summarized."
   ]
  },
  {
   "cell_type": "markdown",
   "id": "c57ae114-56b1-42b3-bdcf-57c575ce121d",
   "metadata": {},
   "source": [
    "**Objectives:**\n",
    "- python\n",
    "- R\n",
    "- watson studio\n",
    "- jupyter notebook\n",
    "- Scala"
   ]
  },
  {
   "cell_type": "markdown",
   "id": "ec048566-590c-48aa-b6ab-492266d906fb",
   "metadata": {},
   "source": [
    "Some of the popular languages that Data Scientists use are:\n",
    "1. python\n",
    "2. java\n",
    "3. C++"
   ]
  },
  {
   "cell_type": "markdown",
   "id": "42c59cf4-fa7b-476b-9845-7fd468640cfe",
   "metadata": {},
   "source": [
    "Some of the commonly used libraries used by Data Scientists include:\n",
    "1. ggplot\n",
    "2. numpy\n",
    "3. matplotlab"
   ]
  },
  {
   "cell_type": "markdown",
   "id": "fe3fae3c-c221-4733-be67-606c8f960cf3",
   "metadata": {},
   "source": [
    "|data science tools|\n",
    "|------------|\n",
    "|plotly|\n",
    "|pandas|\n",
    "|matplotlab|"
   ]
  },
  {
   "cell_type": "markdown",
   "id": "dcc50083-bedd-4f87-890d-82042100b1f0",
   "metadata": {},
   "source": [
    "### Below are a few examples of evaluating arithmetic expressions in Python"
   ]
  },
  {
   "cell_type": "markdown",
   "id": "3af44f2b-fd92-47e9-a4e2-054e6b001c55",
   "metadata": {},
   "source": [
    " This a simple arithmetic expression to mutiply then add integers"
   ]
  },
  {
   "cell_type": "code",
   "execution_count": 4,
   "id": "2dc2c756-8921-4679-a2a2-f925fe0131e7",
   "metadata": {},
   "outputs": [
    {
     "data": {
      "text/plain": [
       "17"
      ]
     },
     "execution_count": 4,
     "metadata": {},
     "output_type": "execute_result"
    }
   ],
   "source": [
    "(3*4)+5"
   ]
  },
  {
   "cell_type": "markdown",
   "id": "216e6e82-f6eb-4077-97a7-b476cc53290e",
   "metadata": {},
   "source": [
    " This will convert 200 minutes to hours by diving by 60"
   ]
  },
  {
   "cell_type": "code",
   "execution_count": 6,
   "id": "80c83480-a947-418c-92f0-bd2fbad86118",
   "metadata": {},
   "outputs": [
    {
     "data": {
      "text/plain": [
       "3.3333333333333335"
      ]
     },
     "execution_count": 6,
     "metadata": {},
     "output_type": "execute_result"
    }
   ],
   "source": [
    "200/60"
   ]
  },
  {
   "cell_type": "markdown",
   "id": "10b3df8a-6eeb-44c2-b5ae-c783fe57b6e4",
   "metadata": {},
   "source": [
    "## Author"
   ]
  },
  {
   "cell_type": "markdown",
   "id": "a4860389-ad76-4891-98e9-b4d40be5c8fd",
   "metadata": {},
   "source": [
    "Abdulrahman Bello"
   ]
  },
  {
   "cell_type": "code",
   "execution_count": null,
   "id": "2af4335b-4a76-4ddc-b17e-80dab8029327",
   "metadata": {},
   "outputs": [],
   "source": []
  }
 ],
 "metadata": {
  "kernelspec": {
   "display_name": "Python 3 (ipykernel)",
   "language": "python",
   "name": "python3"
  },
  "language_info": {
   "codemirror_mode": {
    "name": "ipython",
    "version": 3
   },
   "file_extension": ".py",
   "mimetype": "text/x-python",
   "name": "python",
   "nbconvert_exporter": "python",
   "pygments_lexer": "ipython3",
   "version": "3.12.7"
  }
 },
 "nbformat": 4,
 "nbformat_minor": 5
}
